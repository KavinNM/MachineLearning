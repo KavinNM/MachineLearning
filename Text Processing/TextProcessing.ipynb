{
 "cells": [
  {
   "cell_type": "code",
   "execution_count": 1,
   "metadata": {},
   "outputs": [
    {
     "name": "stdout",
     "output_type": "stream",
     "text": [
      "18\n"
     ]
    }
   ],
   "source": [
    "world = 'Pembelajaran mesin'\n",
    "print(len(world))"
   ]
  },
  {
   "cell_type": "code",
   "execution_count": 5,
   "metadata": {},
   "outputs": [
    {
     "name": "stdout",
     "output_type": "stream",
     "text": [
      "1\n",
      "2\n",
      "3\n",
      "\n",
      "6\n"
     ]
    }
   ],
   "source": [
    "multiline='''1\n",
    "2\n",
    "3\n",
    "'''\n",
    "print(multiline)\n",
    "print(len(multiline))"
   ]
  },
  {
   "cell_type": "code",
   "execution_count": 7,
   "metadata": {},
   "outputs": [
    {
     "name": "stdout",
     "output_type": "stream",
     "text": [
      "Pembelajaranmesin\n"
     ]
    }
   ],
   "source": [
    "str1 = 'Pembelajaran'\n",
    "str2 = 'mesin'\n",
    "print(str1+str2)"
   ]
  },
  {
   "cell_type": "code",
   "execution_count": 8,
   "metadata": {},
   "outputs": [
    {
     "name": "stdout",
     "output_type": "stream",
     "text": [
      "97\n",
      "32\n",
      "65\n"
     ]
    }
   ],
   "source": [
    "ch1='a'\n",
    "ch2= ' '\n",
    "ch3 = 'A'\n",
    "\n",
    "print(ord(ch1)) #ord = kode unicode\n",
    "print(ord(ch2))\n",
    "print(ord(ch3))"
   ]
  },
  {
   "cell_type": "code",
   "execution_count": 10,
   "metadata": {},
   "outputs": [
    {
     "name": "stdout",
     "output_type": "stream",
     "text": [
      "Pmbljrn Msn"
     ]
    }
   ],
   "source": [
    "cthstring='Pembelajaran Mesin'\n",
    "vokal = ['a','i','u','e','o']\n",
    "for i in range(len(cthstring)):\n",
    "    if cthstring[i].lower() in vokal:\n",
    "        continue\n",
    "    print(cthstring[i], end='')"
   ]
  },
  {
   "cell_type": "code",
   "execution_count": 14,
   "metadata": {},
   "outputs": [
    {
     "name": "stdout",
     "output_type": "stream",
     "text": [
      "elrmn\n",
      "e\n",
      "belajaran mesin\n",
      "Pem\n",
      "Pmeaaa ei\n"
     ]
    }
   ],
   "source": [
    "cthSlice = \"Pembelajaran mesin\"\n",
    "\n",
    "print(cthSlice[1::4])\n",
    "print(cthSlice[1:2])\n",
    "print(cthSlice[3:])\n",
    "print(cthSlice[:3])\n",
    "print(cthSlice[::2])"
   ]
  },
  {
   "cell_type": "code",
   "execution_count": 16,
   "metadata": {},
   "outputs": [
    {
     "name": "stdout",
     "output_type": "stream",
     "text": [
      "b\n"
     ]
    }
   ],
   "source": [
    "alphabet = 'Pembelajaran mesin'\n",
    "\n",
    "print(alphabet[3])\n"
   ]
  },
  {
   "cell_type": "code",
   "execution_count": 20,
   "metadata": {},
   "outputs": [
    {
     "data": {
      "text/plain": [
       "['Pembelajaran mesin', '1']"
      ]
     },
     "execution_count": 20,
     "metadata": {},
     "output_type": "execute_result"
    }
   ],
   "source": [
    "alphabetlist=[alphabet]\n",
    "alphabetlist.insert(2,'1')\n",
    "alphabetlist"
   ]
  },
  {
   "cell_type": "code",
   "execution_count": 25,
   "metadata": {},
   "outputs": [
    {
     "name": "stdout",
     "output_type": "stream",
     "text": [
      "P\n"
     ]
    }
   ],
   "source": [
    "print(min('Pembelajaranmesin'))"
   ]
  },
  {
   "cell_type": "code",
   "execution_count": 30,
   "metadata": {},
   "outputs": [
    {
     "name": "stdout",
     "output_type": "stream",
     "text": [
      "1\n",
      "152\n"
     ]
    }
   ],
   "source": [
    "txt=\"\"\"\"Lorem ipsum dolor sit amet, consectetur adipiscing elit, \n",
    "sed do eiusmod tempor incididunt ut labore et dolore magna aliqua. \n",
    "Ut enim ad minim veniam, quis nostrud exercitation ullamco laboris nisi ut aliquip ex ea commodo consequat.\n",
    "Duis aute irure dolor in reprehenderit in voluptate velit esse cillum dolore eu fugiat nulla pariatur.\n",
    "Excepteur sint occaecat cupidatat non proident, sunt in culpa qui officia deserunt mollit anim id est laborum.\n",
    "\"\"\"\n",
    "fnd = txt.find('Lorem')\n",
    "while fnd != -1:\n",
    "    print(fnd)\n",
    "    fnd = txt.find('quis',fnd+1)\n"
   ]
  },
  {
   "cell_type": "code",
   "execution_count": 62,
   "metadata": {},
   "outputs": [],
   "source": [
    "text = 'RT : @Welsknight The last piece of audio equipment should be arriving later today. Probably will spend most of the day tomorrow configuring and sound testing.\\\\n That means back to making videos starting Monday, assuming all goes well. 🙏'"
   ]
  },
  {
   "cell_type": "code",
   "execution_count": 63,
   "metadata": {},
   "outputs": [
    {
     "name": "stdout",
     "output_type": "stream",
     "text": [
      "RT : @Welsknight The last piece of audio equipment should be arriving later today. Probably will spend most of the day tomorrow configuring and sound testing.\\n That means back to making videos starting Monday, assuming all goes well. 🙏\n"
     ]
    }
   ],
   "source": [
    "print(text)"
   ]
  },
  {
   "cell_type": "code",
   "execution_count": 64,
   "metadata": {},
   "outputs": [],
   "source": [
    "import re\n",
    "import string\n",
    "import time\n",
    "from copy import deepcopy"
   ]
  },
  {
   "cell_type": "code",
   "execution_count": 65,
   "metadata": {},
   "outputs": [],
   "source": [
    "hasil = text.replace('\\\\t',\" \").replace('\\\\n',\" \").replace('\\\\u',\" \").replace('\\\\',\"\")"
   ]
  },
  {
   "cell_type": "code",
   "execution_count": 66,
   "metadata": {},
   "outputs": [
    {
     "data": {
      "text/plain": [
       "'RT : @Welsknight The last piece of audio equipment should be arriving later today. Probably will spend most of the day tomorrow configuring and sound testing.  That means back to making videos starting Monday, assuming all goes well. 🙏'"
      ]
     },
     "execution_count": 66,
     "metadata": {},
     "output_type": "execute_result"
    }
   ],
   "source": [
    "hasil"
   ]
  },
  {
   "cell_type": "code",
   "execution_count": 67,
   "metadata": {},
   "outputs": [],
   "source": [
    "hasil = hasil.encode('ascii', 'replace').decode('ascii')"
   ]
  },
  {
   "cell_type": "code",
   "execution_count": 68,
   "metadata": {},
   "outputs": [
    {
     "data": {
      "text/plain": [
       "'RT : @Welsknight The last piece of audio equipment should be arriving later today. Probably will spend most of the day tomorrow configuring and sound testing.  That means back to making videos starting Monday, assuming all goes well. ?'"
      ]
     },
     "execution_count": 68,
     "metadata": {},
     "output_type": "execute_result"
    }
   ],
   "source": [
    "hasil"
   ]
  },
  {
   "cell_type": "code",
   "execution_count": 69,
   "metadata": {},
   "outputs": [
    {
     "name": "stdout",
     "output_type": "stream",
     "text": [
      "RT : The last piece of audio equipment should be arriving later today. Probably will spend most of the day tomorrow configuring and sound testing. That means back to making videos starting Monday, assuming all goes well. ?\n"
     ]
    },
    {
     "name": "stderr",
     "output_type": "stream",
     "text": [
      "<>:1: SyntaxWarning: invalid escape sequence '\\w'\n",
      "<>:1: SyntaxWarning: invalid escape sequence '\\w'\n",
      "C:\\Users\\HP\\AppData\\Local\\Temp\\ipykernel_46976\\1091031529.py:1: SyntaxWarning: invalid escape sequence '\\w'\n",
      "  hasil = ' '.join(re.sub(\"([@#][A-Za-z0-9]+)|(\\w+:\\/\\/\\S+)\",\" \", hasil).split())\n"
     ]
    }
   ],
   "source": [
    "hasil = ' '.join(re.sub(\"([@#][A-Za-z0-9]+)|(\\w+:\\/\\/\\S+)\",\" \", hasil).split())\n",
    "print(hasil)"
   ]
  },
  {
   "cell_type": "code",
   "execution_count": 70,
   "metadata": {},
   "outputs": [],
   "source": [
    "hasil =hasil.replace('RT : ','')"
   ]
  },
  {
   "cell_type": "code",
   "execution_count": 71,
   "metadata": {},
   "outputs": [
    {
     "data": {
      "text/plain": [
       "'The last piece of audio equipment should be arriving later today. Probably will spend most of the day tomorrow configuring and sound testing. That means back to making videos starting Monday, assuming all goes well. ?'"
      ]
     },
     "execution_count": 71,
     "metadata": {},
     "output_type": "execute_result"
    }
   ],
   "source": [
    "hasil"
   ]
  },
  {
   "cell_type": "code",
   "execution_count": 75,
   "metadata": {},
   "outputs": [
    {
     "data": {
      "text/plain": [
       "'the last piece of audio equipment should be arriving later today. probably will spend most of the day tomorrow configuring and sound testing. that means back to making videos starting monday, assuming all goes well. ?'"
      ]
     },
     "execution_count": 75,
     "metadata": {},
     "output_type": "execute_result"
    }
   ],
   "source": [
    "\n",
    "hasil = hasil.lower()\n",
    "hasil"
   ]
  },
  {
   "cell_type": "code",
   "execution_count": 77,
   "metadata": {},
   "outputs": [
    {
     "data": {
      "text/plain": [
       "'the last piece of audio equipment should be arriving later today. probably will spend most of the day tomorrow configuring and sound testing. that means back to making videos starting monday, assuming all goes well. ?'"
      ]
     },
     "execution_count": 77,
     "metadata": {},
     "output_type": "execute_result"
    }
   ],
   "source": [
    "hasil = hasil.replace('http://',\"\").replace('https://',\"\")\n",
    "hasil"
   ]
  },
  {
   "cell_type": "code",
   "execution_count": 79,
   "metadata": {},
   "outputs": [
    {
     "data": {
      "text/plain": [
       "'the last piece of audio equipment should be arriving later today. probably will spend most of the day tomorrow configuring and sound testing. that means back to making videos starting monday, assuming all goes well. ?'"
      ]
     },
     "execution_count": 79,
     "metadata": {},
     "output_type": "execute_result"
    }
   ],
   "source": [
    "def remove_number(hasil):\n",
    "    return re.sub(r\"\\d+\", \"\", hasil)\n",
    "\n",
    "hasil = remove_number(hasil)\n",
    "hasil\n"
   ]
  },
  {
   "cell_type": "code",
   "execution_count": 80,
   "metadata": {},
   "outputs": [
    {
     "data": {
      "text/plain": [
       "'the last piece of audio equipment should be arriving later today probably will spend most of the day tomorrow configuring and sound testing that means back to making videos starting monday assuming all goes well '"
      ]
     },
     "execution_count": 80,
     "metadata": {},
     "output_type": "execute_result"
    }
   ],
   "source": [
    "def remove_punctuation(hasil):\n",
    "    return hasil.translate(str.maketrans(\"\",\"\",string.punctuation))\n",
    "\n",
    "hasil = remove_punctuation(hasil)\n",
    "hasil"
   ]
  }
 ],
 "metadata": {
  "kernelspec": {
   "display_name": "Python 3",
   "language": "python",
   "name": "python3"
  },
  "language_info": {
   "codemirror_mode": {
    "name": "ipython",
    "version": 3
   },
   "file_extension": ".py",
   "mimetype": "text/x-python",
   "name": "python",
   "nbconvert_exporter": "python",
   "pygments_lexer": "ipython3",
   "version": "3.12.2"
  }
 },
 "nbformat": 4,
 "nbformat_minor": 2
}
