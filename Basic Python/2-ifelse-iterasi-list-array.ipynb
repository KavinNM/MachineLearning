{
 "cells": [
  {
   "cell_type": "code",
   "execution_count": 10,
   "metadata": {},
   "outputs": [
    {
     "name": "stdout",
     "output_type": "stream",
     "text": [
      "Sample input: 99\n",
      "Expected output: False\n"
     ]
    }
   ],
   "source": [
    "a=int(input())\n",
    "print(\"Sample input:\",a)\n",
    "print('Expected output:',a>100)"
   ]
  },
  {
   "cell_type": "code",
   "execution_count": 6,
   "metadata": {},
   "outputs": [
    {
     "name": "stdout",
     "output_type": "stream",
     "text": [
      "11.0\n"
     ]
    }
   ],
   "source": [
    "x = 5 + 2 * 3 / (2 - 3) ** 2\n",
    "print(x)"
   ]
  },
  {
   "cell_type": "code",
   "execution_count": 16,
   "metadata": {},
   "outputs": [
    {
     "name": "stdout",
     "output_type": "stream",
     "text": [
      "Masukan bilangan bulat:  1\n",
      "1  adalah ganjil\n"
     ]
    }
   ],
   "source": [
    "angka=int(input())\n",
    "print(\"Masukan bilangan bulat: \",angka)\n",
    "if(angka%2==0):\n",
    "    print(angka,\" adalah genap\")\n",
    "else:\n",
    "        print(angka,\" adalah ganjil\")\n"
   ]
  },
  {
   "cell_type": "code",
   "execution_count": 24,
   "metadata": {},
   "outputs": [
    {
     "name": "stdout",
     "output_type": "stream",
     "text": [
      "Masukan nilai koordinat\n",
      "Nilai x:  91\n",
      "Nilai y:  -3\n",
      "Koordinat (91,-3) berada pada Kuadran IIII\n"
     ]
    }
   ],
   "source": [
    "print(\"Masukan nilai koordinat\")\n",
    "x = int(input())\n",
    "print(\"Nilai x: \",x)\n",
    "y = int(input())\n",
    "print(\"Nilai y: \",y)\n",
    "\n",
    "if x==0 and y==0:\n",
    "    print(\"Koordinat (\"+ str(x) + \",\"+ str(y) +\") berada di tengah\" )\n",
    "elif x>0 and y>0:\n",
    "    print(\"Koordinat (\"+ str(x) + \",\"+ str(y) +\") berada pada Kuadran I\" )\n",
    "elif x<0 and y>0:\n",
    "    print(\"Koordinat (\"+ str(x) + \",\"+ str(y) +\") berada pada Kuadran II\" )\n",
    "elif x<0 and y<0:\n",
    "    print(\"Koordinat (\"+ str(x) + \",\"+ str(y) +\") berada pada Kuadran III\" )\n",
    "elif x>0 and y<0:\n",
    "    print(\"Koordinat (\"+ str(x) + \",\"+ str(y) +\") berada pada Kuadran IIII\" )\n",
    "\n"
   ]
  },
  {
   "cell_type": "code",
   "execution_count": 29,
   "metadata": {},
   "outputs": [
    {
     "name": "stdout",
     "output_type": "stream",
     "text": [
      "angka pertama:  312\n",
      "angka pertama:  456\n",
      "angka pertama:  143411\n",
      "Angka terbesar:  143411\n"
     ]
    }
   ],
   "source": [
    "angka1=int(input())\n",
    "print(\"angka pertama: \",angka1)\n",
    "angka2=int(input())\n",
    "print(\"angka pertama: \",angka2)\n",
    "angka3=int(input())\n",
    "print(\"angka pertama: \",angka3)\n",
    "\n",
    "angkamax=angka1\n",
    "if angka2>angkamax:\n",
    "    angkamax=angka2\n",
    "if angka3>angkamax:\n",
    "    angkamax=angka3\n",
    "print(\"Angka terbesar: \",angkamax)"
   ]
  },
  {
   "cell_type": "code",
   "execution_count": 32,
   "metadata": {},
   "outputs": [
    {
     "name": "stdout",
     "output_type": "stream",
     "text": [
      "Yes - Spathiphyllum is the best plant ever!\n"
     ]
    }
   ],
   "source": [
    "plant = input(\"Please input a best plant = \")\n",
    "\n",
    "if plant == \"Spathiphyllum\":\n",
    "    print(\"Yes - Spathiphyllum is the best plant ever!\")\n",
    "elif plant == \"spathiphyllum\":\n",
    "    print(\"No, I want a big Spathiphyllum!\")\n",
    "else:\n",
    "    print(\"Spathiphyllum! Not \"+ plant +\"!\")"
   ]
  }
 ],
 "metadata": {
  "kernelspec": {
   "display_name": "Python 3",
   "language": "python",
   "name": "python3"
  },
  "language_info": {
   "codemirror_mode": {
    "name": "ipython",
    "version": 3
   },
   "file_extension": ".py",
   "mimetype": "text/x-python",
   "name": "python",
   "nbconvert_exporter": "python",
   "pygments_lexer": "ipython3",
   "version": "3.12.2"
  }
 },
 "nbformat": 4,
 "nbformat_minor": 2
}
