{
 "cells": [
  {
   "cell_type": "code",
   "execution_count": 3,
   "metadata": {},
   "outputs": [
    {
     "name": "stdout",
     "output_type": "stream",
     "text": [
      "Hello, Python\n",
      "Kavin\n",
      "Kavin\n"
     ]
    }
   ],
   "source": [
    "print('Hello, Python')\n",
    "print(\"Kavin\")\n",
    "print('Kavin')\n",
    "#\"...\" dan '..' tidak memiliki perbedaan"
   ]
  },
  {
   "cell_type": "code",
   "execution_count": 3,
   "metadata": {},
   "outputs": [
    {
     "name": "stdout",
     "output_type": "stream",
     "text": [
      "Programming***Essentials***in...Python\n"
     ]
    }
   ],
   "source": [
    "print(\"Programming\",\"Essentials\",\"in\",end=\"...\",sep=\"***\")\n",
    "print(\"Python\")"
   ]
  },
  {
   "cell_type": "code",
   "execution_count": 24,
   "metadata": {},
   "outputs": [
    {
     "name": "stdout",
     "output_type": "stream",
     "text": [
      "*\t*\t\n",
      "**\t**\t\n",
      "***\t***\t\n",
      "****\t****\t\n",
      "*****\t*****\t\n"
     ]
    }
   ],
   "source": [
    "print(\"*\\t\"*2)\n",
    "print(\"**\\t\"*2)\n",
    "print(\"***\\t\"*2)\n",
    "print(\"****\\t\"*2)\n",
    "print(\"*****\\t\"*2)"
   ]
  },
  {
   "cell_type": "code",
   "execution_count": 26,
   "metadata": {},
   "outputs": [
    {
     "name": "stdout",
     "output_type": "stream",
     "text": [
      "I'm Monty Python\n"
     ]
    }
   ],
   "source": [
    "print(\"I'm Monty Python\")"
   ]
  },
  {
   "cell_type": "code",
   "execution_count": 36,
   "metadata": {},
   "outputs": [
    {
     "name": "stdout",
     "output_type": "stream",
     "text": [
      "\"I'm\"\n",
      "\"\"learning\"\"\n",
      "\"\"\"Python\"\"\"\n"
     ]
    }
   ],
   "source": [
    "print('\"I\\'m\"\\n\"\"learning\"\"\\n\"\"\"Python\"\"\"')\n"
   ]
  },
  {
   "cell_type": "code",
   "execution_count": 47,
   "metadata": {},
   "outputs": [
    {
     "name": "stdout",
     "output_type": "stream",
     "text": [
      "C =  4.47213595499958\n"
     ]
    }
   ],
   "source": [
    "a=2\n",
    "b=4\n",
    "c=(a*a+b*b)**0.5\n",
    "print(\"C = \",c)"
   ]
  },
  {
   "cell_type": "code",
   "execution_count": 51,
   "metadata": {},
   "outputs": [
    {
     "name": "stdout",
     "output_type": "stream",
     "text": [
      "Darjo memiliki  3  Apel, Darno memiliki  5  Apel, Waginem memiliki  6  apel\n",
      "Total apel milik mereka =  14\n"
     ]
    }
   ],
   "source": [
    "Darjo=3\n",
    "Darno=5\n",
    "Waginem=6\n",
    "\n",
    "totalApel=Darjo+Darno+Waginem\n",
    "print(\"Darjo memiliki \",Darjo,\" Apel, Darno memiliki \",Darno,\" Apel, Waginem memiliki \",Waginem,\" apel\")\n",
    "\n",
    "print(\"Total apel milik mereka = \",totalApel)"
   ]
  },
  {
   "cell_type": "code",
   "execution_count": 57,
   "metadata": {},
   "outputs": [
    {
     "name": "stdout",
     "output_type": "stream",
     "text": [
      "7.38 1 mil adalah 11.88 kilometer\n",
      "12.25 1 kilometer adalah 7.61 mil\n"
     ]
    }
   ],
   "source": [
    "kilometer = 12.25\n",
    "mil = 7.38\n",
    "\n",
    "mil_to_kilometer = mil*1.61\n",
    "kilometers_to_miles = kilometer/1.61\n",
    "\n",
    "print(mil, \"1 mil adalah\", round(mil_to_kilometer, 2), \"kilometer\")\n",
    "print(kilometer, \"1 kilometer adalah\", round(kilometers_to_miles, 2), \"mil\")"
   ]
  },
  {
   "cell_type": "code",
   "execution_count": 69,
   "metadata": {},
   "outputs": [
    {
     "name": "stdout",
     "output_type": "stream",
     "text": [
      "y = -1.0\n"
     ]
    }
   ],
   "source": [
    "x = 0\n",
    "x = float(x)\n",
    "y= 3*x*x*x - 2*x*x*x + 3*x -1\n",
    "print(\"y =\",y)"
   ]
  },
  {
   "cell_type": "code",
   "execution_count": 72,
   "metadata": {},
   "outputs": [
    {
     "name": "stdout",
     "output_type": "stream",
     "text": [
      "+----------+\n",
      "|          |\n",
      "|          |\n",
      "|          |\n",
      "|          |\n",
      "|          |\n",
      "+----------+\n"
     ]
    }
   ],
   "source": [
    "print(\"+\" + 10*\"-\" + \"+\")\n",
    "print((\"|\" + 10*\" \" + \"|\\n\") * 5, end=\"\")\n",
    "print(\"+\" + 10*\"-\" + \"+\")"
   ]
  },
  {
   "cell_type": "code",
   "execution_count": 73,
   "metadata": {},
   "outputs": [],
   "source": [
    "a=float(2)\n",
    "b=float(3)\n",
    "\n",
    "tambah=a+b\n",
    "kurang=a-b\n",
    "kali=a*b\n",
    "bagi=a/b"
   ]
  }
 ],
 "metadata": {
  "kernelspec": {
   "display_name": "Python 3",
   "language": "python",
   "name": "python3"
  },
  "language_info": {
   "codemirror_mode": {
    "name": "ipython",
    "version": 3
   },
   "file_extension": ".py",
   "mimetype": "text/x-python",
   "name": "python",
   "nbconvert_exporter": "python",
   "pygments_lexer": "ipython3",
   "version": "3.12.2"
  }
 },
 "nbformat": 4,
 "nbformat_minor": 2
}
